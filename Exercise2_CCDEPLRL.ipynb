{
  "nbformat": 4,
  "nbformat_minor": 0,
  "metadata": {
    "colab": {
      "provenance": []
    },
    "kernelspec": {
      "name": "python3",
      "display_name": "Python 3"
    },
    "language_info": {
      "name": "python"
    }
  },
  "cells": [
    {
      "cell_type": "markdown",
      "source": [
        "# Exercise 2"
      ],
      "metadata": {
        "id": "tqFPmGbJ7Oah"
      }
    },
    {
      "cell_type": "markdown",
      "source": [
        "\n",
        "## Forward Pass and Backward Pass"
      ],
      "metadata": {
        "id": "cUkdx6a498S8"
      }
    },
    {
      "cell_type": "markdown",
      "source": [
        "<img src=\"https://github.com/robitussin/CCDEPLRL_EXERCISES/blob/main/images/exercise2.png?raw=true\"/>"
      ],
      "metadata": {
        "id": "0Q5Io34f-x38"
      }
    },
    {
      "cell_type": "markdown",
      "source": [
        "<img src=\"\"/>"
      ],
      "metadata": {
        "id": "-ZTBRmkM7JMR"
      }
    },
    {
      "cell_type": "markdown",
      "source": [
        "1. What is the predicted output? (`20 points`)"
      ],
      "metadata": {
        "id": "7HD5MNgg7hIu"
      }
    },
    {
      "cell_type": "code",
      "execution_count": 4,
      "metadata": {
        "id": "2cbutiml5cm_",
        "colab": {
          "base_uri": "https://localhost:8080/"
        },
        "outputId": "ecac4040-97af-4531-9212-cc4c5cc61581"
      },
      "outputs": [
        {
          "output_type": "stream",
          "name": "stdout",
          "text": [
            "z2 = 4\n"
          ]
        }
      ],
      "source": [
        "#(z1 * w1) = z2\n",
        "#(2.0 * 2.0) = 4\n",
        "#z2 = 4\n",
        "\n",
        "print (\"z2 = 4\")"
      ]
    },
    {
      "cell_type": "markdown",
      "source": [
        "2. Find the loss using the Mean Squared Error (MSE) function (`20 points`)"
      ],
      "metadata": {
        "id": "JTh2z2v97k0J"
      }
    },
    {
      "cell_type": "code",
      "source": [
        "# c = (z2 - y)^2\n",
        "# c = (4 - 1)^2\n",
        "# c = (3)^2\n",
        "# c = 9\n",
        "\n",
        "print (\"c = 9\")"
      ],
      "metadata": {
        "id": "F2D7opAr7t3U",
        "colab": {
          "base_uri": "https://localhost:8080/"
        },
        "outputId": "8785eae8-12ab-42d8-ffe5-a658a710e4d5"
      },
      "execution_count": 5,
      "outputs": [
        {
          "output_type": "stream",
          "name": "stdout",
          "text": [
            "c = 9\n"
          ]
        }
      ]
    },
    {
      "cell_type": "markdown",
      "source": [
        "3. What is the derivative of $z_{2}$ with respect to $w_{1}$? (`20 points`)"
      ],
      "metadata": {
        "id": "wz5D8wEl7wtT"
      }
    },
    {
      "cell_type": "code",
      "source": [
        "# az2/aw1 = z1 = 2\n",
        "\n",
        "print (\"az2/aw1 = 9\")"
      ],
      "metadata": {
        "id": "n8Q_9JJ57xFL",
        "colab": {
          "base_uri": "https://localhost:8080/"
        },
        "outputId": "1da2dc9c-b52e-4ab2-893e-7b5a0e230f93"
      },
      "execution_count": 6,
      "outputs": [
        {
          "output_type": "stream",
          "name": "stdout",
          "text": [
            "az2/aw1 = 9\n"
          ]
        }
      ]
    },
    {
      "cell_type": "markdown",
      "source": [
        "4. What is the derivative of the loss with respect to $z_{2}$? (`20 points`)"
      ],
      "metadata": {
        "id": "HVpt0n-E9TIx"
      }
    },
    {
      "cell_type": "code",
      "source": [
        "# ac/az2 = 2(z2 - y)\n",
        "# ac/az2 = 2(4 - 1)\n",
        "# ac/az2 = 2(3)\n",
        "# ac/az2 = 6\n",
        "\n",
        "print (\"ac/az2 = 6\")"
      ],
      "metadata": {
        "id": "KM4fEL059grQ",
        "colab": {
          "base_uri": "https://localhost:8080/"
        },
        "outputId": "3b250f39-dc4b-443a-ccf2-d9d7074ad19c"
      },
      "execution_count": 7,
      "outputs": [
        {
          "output_type": "stream",
          "name": "stdout",
          "text": [
            "ac/az2 = 6\n"
          ]
        }
      ]
    },
    {
      "cell_type": "markdown",
      "source": [
        "5. What is the derivative of the loss with respect to $w_{1}$? (`20 points`)"
      ],
      "metadata": {
        "id": "hlO5xdMx9hhl"
      }
    },
    {
      "cell_type": "code",
      "source": [
        "# ac/aw1 = 2 * 2(z2 - y)\n",
        "# ac/aw1 = 2 * 2(w1z1 - 1)\n",
        "# ac/aw1 = 2 * 2(w1(2) - 1)\n",
        "# ac/aw1 = 8 * w1 - 4\n",
        "\n",
        "print (\"ac/aw1 = 8 * w1 - 4\")"
      ],
      "metadata": {
        "id": "-xP2grHW9hxK",
        "colab": {
          "base_uri": "https://localhost:8080/"
        },
        "outputId": "44d116ec-0c5b-4e75-8c41-ae45fea0ecc8"
      },
      "execution_count": 9,
      "outputs": [
        {
          "output_type": "stream",
          "name": "stdout",
          "text": [
            "ac/aw1 = 8 * w1 - 4\n"
          ]
        }
      ]
    }
  ]
}